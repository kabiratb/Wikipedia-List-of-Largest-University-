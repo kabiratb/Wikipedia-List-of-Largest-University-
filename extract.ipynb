{
 "cells": [
  {
   "cell_type": "markdown",
   "metadata": {},
   "source": [
    "Wikipedia List of Largest University\n",
    "I have the data scripped here while i then clean and visualize it in the clean file named 'Cleaning' you can click on that to visualize it all."
   ]
  },
  {
   "cell_type": "code",
   "execution_count": 1,
   "metadata": {},
   "outputs": [],
   "source": [
    "import requests\n",
    "from bs4 import BeautifulSoup"
   ]
  },
  {
   "cell_type": "code",
   "execution_count": 2,
   "metadata": {},
   "outputs": [],
   "source": [
    "response = requests.get('https://en.wikipedia.org/wiki/List_of_largest_universities')\n",
    "soup = BeautifulSoup(response.content)\n",
    "table = soup.find('table', attrs={'class': 'sortable'})"
   ]
  },
  {
   "cell_type": "code",
   "execution_count": 5,
   "metadata": {},
   "outputs": [],
   "source": [
    "trs = table.findAll('tr')"
   ]
  },
  {
   "cell_type": "code",
   "execution_count": 6,
   "metadata": {},
   "outputs": [
    {
     "data": {
      "text/plain": [
       "<tr>\n",
       "<th>Country\n",
       "</th>\n",
       "<th>University\n",
       "</th>\n",
       "<th>Founded\n",
       "</th>\n",
       "<th>Type\n",
       "</th>\n",
       "<th>Enrollment\n",
       "</th>\n",
       "<th>Ref\n",
       "</th></tr>"
      ]
     },
     "execution_count": 6,
     "metadata": {},
     "output_type": "execute_result"
    }
   ],
   "source": [
    "trs[0]"
   ]
  },
  {
   "cell_type": "code",
   "execution_count": 7,
   "metadata": {},
   "outputs": [
    {
     "name": "stdout",
     "output_type": "stream",
     "text": [
      "Country\n",
      "University\n",
      "Founded\n",
      "Type\n",
      "Enrollment\n",
      "Ref\n"
     ]
    }
   ],
   "source": [
    "columns = []\n",
    "for item in trs[0].findAll('th'):\n",
    "    print(item.text.strip())\n",
    "    columns.append(item.text.strip())"
   ]
  },
  {
   "cell_type": "code",
   "execution_count": 8,
   "metadata": {},
   "outputs": [
    {
     "data": {
      "text/plain": [
       "['Country', 'University', 'Founded', 'Type', 'Enrollment', 'Ref']"
      ]
     },
     "execution_count": 8,
     "metadata": {},
     "output_type": "execute_result"
    }
   ],
   "source": [
    "columns"
   ]
  },
  {
   "cell_type": "code",
   "execution_count": 9,
   "metadata": {},
   "outputs": [],
   "source": [
    "\n",
    "columns = list(map(lambda x: x.text.strip(), trs[0].findAll('th')))\n",
    "columns[5] = \"Links\""
   ]
  },
  {
   "cell_type": "code",
   "execution_count": 10,
   "metadata": {},
   "outputs": [
    {
     "data": {
      "text/plain": [
       "['Country', 'University', 'Founded', 'Type', 'Enrollment', 'Links']"
      ]
     },
     "execution_count": 10,
     "metadata": {},
     "output_type": "execute_result"
    }
   ],
   "source": [
    "columns"
   ]
  },
  {
   "cell_type": "code",
   "execution_count": 11,
   "metadata": {},
   "outputs": [],
   "source": [
    "rows = trs[1:]"
   ]
  },
  {
   "cell_type": "code",
   "execution_count": 13,
   "metadata": {},
   "outputs": [
    {
     "data": {
      "text/plain": [
       "[<td><span class=\"flagicon\"><span class=\"mw-image-border\" typeof=\"mw:File\"><span><img alt=\"\" class=\"mw-file-element\" data-file-height=\"500\" data-file-width=\"700\" decoding=\"async\" height=\"15\" src=\"//upload.wikimedia.org/wikipedia/commons/thumb/3/36/Flag_of_Albania.svg/21px-Flag_of_Albania.svg.png\" srcset=\"//upload.wikimedia.org/wikipedia/commons/thumb/3/36/Flag_of_Albania.svg/32px-Flag_of_Albania.svg.png 1.5x, //upload.wikimedia.org/wikipedia/commons/thumb/3/36/Flag_of_Albania.svg/42px-Flag_of_Albania.svg.png 2x\" width=\"21\"/></span></span> </span><a href=\"/wiki/Albania\" title=\"Albania\">Albania</a>\n",
       " </td>,\n",
       " <td><a href=\"/wiki/University_of_Tirana\" title=\"University of Tirana\">University of Tirana</a>\n",
       " </td>,\n",
       " <td style=\"text-align: right;\">1957\n",
       " </td>,\n",
       " <td>Public\n",
       " </td>,\n",
       " <td style=\"text-align: right;\">35,000\n",
       " </td>,\n",
       " <td>\n",
       " </td>]"
      ]
     },
     "execution_count": 13,
     "metadata": {},
     "output_type": "execute_result"
    }
   ],
   "source": [
    "rows[0].findAll('td')"
   ]
  },
  {
   "cell_type": "code",
   "execution_count": 14,
   "metadata": {},
   "outputs": [
    {
     "data": {
      "text/plain": [
       "['Albania', 'University of Tirana', '1957', 'Public', '35,000', '']"
      ]
     },
     "execution_count": 14,
     "metadata": {},
     "output_type": "execute_result"
    }
   ],
   "source": [
    "list(map(lambda x: x.text.strip(), rows[0].findAll('td')))"
   ]
  },
  {
   "cell_type": "code",
   "execution_count": 15,
   "metadata": {},
   "outputs": [
    {
     "data": {
      "text/plain": [
       "'wiki/University_of_Tirana'"
      ]
     },
     "execution_count": 15,
     "metadata": {},
     "output_type": "execute_result"
    }
   ],
   "source": [
    "rows[0].findAll('td')[1].a.attrs['href'].lstrip('/')"
   ]
  },
  {
   "cell_type": "code",
   "execution_count": 16,
   "metadata": {},
   "outputs": [],
   "source": [
    "def extract_row(tr):\n",
    "    row_soup_list = tr.findAll('td')\n",
    "    row = list(map(lambda x: x.text.strip(), row_soup_list))\n",
    "    if len(row) <6:\n",
    "        row.append('')\n",
    "        print(\"=====================================\")\n",
    "        print(row)\n",
    "    link = row_soup_list[1].a.attrs['href'].lstrip('/')\n",
    "    row[-1] = f'https://en.wikipedia.org/{link}' if link else ''\n",
    "    return row"
   ]
  },
  {
   "cell_type": "code",
   "execution_count": 17,
   "metadata": {},
   "outputs": [
    {
     "data": {
      "text/plain": [
       "['Albania',\n",
       " 'University of Tirana',\n",
       " '1957',\n",
       " 'Public',\n",
       " '35,000',\n",
       " 'https://en.wikipedia.org/wiki/University_of_Tirana']"
      ]
     },
     "execution_count": 17,
     "metadata": {},
     "output_type": "execute_result"
    }
   ],
   "source": [
    "extract_row(rows[0])"
   ]
  },
  {
   "cell_type": "code",
   "execution_count": 18,
   "metadata": {},
   "outputs": [
    {
     "name": "stdout",
     "output_type": "stream",
     "text": [
      "=====================================\n",
      "['France', \"Centre national d'enseignement à distance\", '1939', 'Public', '350,000[8]', '']\n"
     ]
    }
   ],
   "source": [
    "data = list(map(extract_row, rows))"
   ]
  },
  {
   "cell_type": "code",
   "execution_count": 19,
   "metadata": {},
   "outputs": [
    {
     "data": {
      "text/plain": [
       "['Country', 'University', 'Founded', 'Type', 'Enrollment', 'Links']"
      ]
     },
     "execution_count": 19,
     "metadata": {},
     "output_type": "execute_result"
    }
   ],
   "source": [
    "columns"
   ]
  },
  {
   "cell_type": "code",
   "execution_count": 20,
   "metadata": {},
   "outputs": [
    {
     "data": {
      "text/plain": [
       "[['Albania',\n",
       "  'University of Tirana',\n",
       "  '1957',\n",
       "  'Public',\n",
       "  '35,000',\n",
       "  'https://en.wikipedia.org/wiki/University_of_Tirana'],\n",
       " ['Algeria',\n",
       "  'Constantine University',\n",
       "  '1978',\n",
       "  'Public',\n",
       "  '85,000',\n",
       "  'https://en.wikipedia.org/wiki/List_of_universities_in_Algeria'],\n",
       " ['Angola',\n",
       "  'Agostinho Neto University',\n",
       "  '1962',\n",
       "  'Public',\n",
       "  '29,827',\n",
       "  'https://en.wikipedia.org/wiki/Agostinho_Neto_University'],\n",
       " ['Argentina',\n",
       "  'University of Buenos Aires',\n",
       "  '1821',\n",
       "  'Public',\n",
       "  '311,175',\n",
       "  'https://en.wikipedia.org/wiki/University_of_Buenos_Aires'],\n",
       " ['Australia',\n",
       "  'Monash University',\n",
       "  '1958',\n",
       "  'Public',\n",
       "  '73,807',\n",
       "  'https://en.wikipedia.org/wiki/Monash_University'],\n",
       " ['Austria',\n",
       "  'University of Vienna',\n",
       "  '1365',\n",
       "  'Public',\n",
       "  '91,000',\n",
       "  'https://en.wikipedia.org/wiki/University_of_Vienna'],\n",
       " ['Bangladesh',\n",
       "  'National University, Bangladesh',\n",
       "  '1992',\n",
       "  'Public',\n",
       "  '2,097,182',\n",
       "  'https://en.wikipedia.org/wiki/National_University,_Bangladesh'],\n",
       " ['Belarus',\n",
       "  'Belarusian State University',\n",
       "  '1921',\n",
       "  'Public',\n",
       "  '25,500',\n",
       "  'https://en.wikipedia.org/wiki/Belarusian_State_University'],\n",
       " ['Belgium',\n",
       "  'KU Leuven',\n",
       "  '1425',\n",
       "  'Private, state-funded',\n",
       "  '55,484',\n",
       "  'https://en.wikipedia.org/wiki/Katholieke_Universiteit_Leuven'],\n",
       " ['Bosnia and Herzegovina',\n",
       "  'University of Sarajevo',\n",
       "  '1949',\n",
       "  'Public',\n",
       "  '30,866',\n",
       "  'https://en.wikipedia.org/wiki/University_of_Sarajevo'],\n",
       " ['Botswana',\n",
       "  'University of Botswana',\n",
       "  '1982',\n",
       "  'Public',\n",
       "  '32,000',\n",
       "  'https://en.wikipedia.org/wiki/University_of_Botswana'],\n",
       " ['Brazil',\n",
       "  'Estácio de Sá University',\n",
       "  '1970',\n",
       "  'Private',\n",
       "  '215,000',\n",
       "  'https://en.wikipedia.org/wiki/Est%C3%A1cio_de_S%C3%A1_University'],\n",
       " ['Bulgaria',\n",
       "  'Sofia University',\n",
       "  '1888',\n",
       "  'Public',\n",
       "  '18 911',\n",
       "  'https://en.wikipedia.org/wiki/Sofia_University'],\n",
       " ['Canada',\n",
       "  'University of Toronto',\n",
       "  '1827',\n",
       "  'Public',\n",
       "  '84,000',\n",
       "  'https://en.wikipedia.org/wiki/University_of_Toronto'],\n",
       " ['China',\n",
       "  'Shanghai Open University',\n",
       "  '1960',\n",
       "  'Public',\n",
       "  '80,000',\n",
       "  'https://en.wikipedia.org/wiki/Shanghai_Open_University'],\n",
       " ['Colombia',\n",
       "  'National University of Colombia',\n",
       "  '1867',\n",
       "  'Public',\n",
       "  '53,581',\n",
       "  'https://en.wikipedia.org/wiki/National_University_of_Colombia'],\n",
       " ['Costa Rica',\n",
       "  'Universidad de Costa Rica',\n",
       "  '1940',\n",
       "  'Public',\n",
       "  '42,750',\n",
       "  'https://en.wikipedia.org/wiki/Universidad_de_Costa_Rica'],\n",
       " ['Croatia',\n",
       "  'University of Zagreb',\n",
       "  '1669',\n",
       "  'Public',\n",
       "  '72,480',\n",
       "  'https://en.wikipedia.org/wiki/University_of_Zagreb'],\n",
       " ['Denmark',\n",
       "  'Aarhus University',\n",
       "  '1928',\n",
       "  'Public',\n",
       "  '43,600',\n",
       "  'https://en.wikipedia.org/wiki/Aarhus_University'],\n",
       " ['Dominican Republic',\n",
       "  'Universidad Autónoma de Santo Domingo',\n",
       "  '1538',\n",
       "  'Public',\n",
       "  '170,530',\n",
       "  'https://en.wikipedia.org/wiki/Universidad_Aut%C3%B3noma_de_Santo_Domingo'],\n",
       " ['Egypt',\n",
       "  'Ain Shams University',\n",
       "  '1950',\n",
       "  'Public',\n",
       "  '170,000',\n",
       "  'https://en.wikipedia.org/wiki/Ain_Shams_University'],\n",
       " ['Estonia',\n",
       "  'University of Tartu',\n",
       "  '1632',\n",
       "  'Public',\n",
       "  '14,000',\n",
       "  'https://en.wikipedia.org/wiki/University_of_Tartu'],\n",
       " ['Finland',\n",
       "  'University of Helsinki',\n",
       "  '1640',\n",
       "  'Public',\n",
       "  '36,500',\n",
       "  'https://en.wikipedia.org/wiki/University_of_Helsinki'],\n",
       " ['France',\n",
       "  \"Centre national d'enseignement à distance\",\n",
       "  '1939',\n",
       "  'Public',\n",
       "  '350,000[8]',\n",
       "  'https://en.wikipedia.org/wiki/Centre_national_d%27enseignement_%C3%A0_distance'],\n",
       " ['Germany',\n",
       "  'IU International University of Applied Sciences',\n",
       "  '1998',\n",
       "  'Private',\n",
       "  '130,000',\n",
       "  'https://en.wikipedia.org/wiki/IU_International_University_of_Applied_Sciences'],\n",
       " ['Greece',\n",
       "  'National and Kapodistrian University of Athens',\n",
       "  '1837',\n",
       "  'Public',\n",
       "  '104,000',\n",
       "  'https://en.wikipedia.org/wiki/National_and_Kapodistrian_University_of_Athens'],\n",
       " ['Guatemala',\n",
       "  'Universidad de San Carlos de Guatemala',\n",
       "  '1676',\n",
       "  'Public',\n",
       "  '124,000',\n",
       "  'https://en.wikipedia.org/wiki/Universidad_de_San_Carlos_de_Guatemala'],\n",
       " ['Hong Kong',\n",
       "  'Hong Kong Polytechnic University',\n",
       "  '1937',\n",
       "  'Public',\n",
       "  '32,000',\n",
       "  'https://en.wikipedia.org/wiki/Hong_Kong_Polytechnic_University'],\n",
       " ['Iceland',\n",
       "  'University of Iceland',\n",
       "  '1911',\n",
       "  'Public',\n",
       "  '13,782',\n",
       "  'https://en.wikipedia.org/wiki/University_of_Iceland'],\n",
       " ['India',\n",
       "  'Indira Gandhi National Open University',\n",
       "  '1985',\n",
       "  'Public',\n",
       "  '7,140,000',\n",
       "  'https://en.wikipedia.org/wiki/Indira_Gandhi_National_Open_University'],\n",
       " ['Indonesia',\n",
       "  'Universitas Terbuka',\n",
       "  '1984',\n",
       "  'Public',\n",
       "  '1,045,665 (total) as per 2019/2020[14]\\n311,028 (active) as per 4 November 2020 [15]',\n",
       "  'https://en.wikipedia.org/wiki/Universitas_Terbuka'],\n",
       " ['Iran',\n",
       "  'Islamic Azad University',\n",
       "  '1982',\n",
       "  'Semi-private',\n",
       "  '1,000,000',\n",
       "  'https://en.wikipedia.org/wiki/Islamic_Azad_University'],\n",
       " ['Ireland',\n",
       "  'University College Dublin',\n",
       "  '1834',\n",
       "  'Public (formerly private)',\n",
       "  '32,900',\n",
       "  'https://en.wikipedia.org/wiki/University_College_Dublin'],\n",
       " ['Israel',\n",
       "  'Tel Aviv University',\n",
       "  '1956',\n",
       "  'Public',\n",
       "  '26,023',\n",
       "  'https://en.wikipedia.org/wiki/Tel_Aviv_University'],\n",
       " ['Italy',\n",
       "  'Sapienza University of Rome',\n",
       "  '1303',\n",
       "  'Public',\n",
       "  '112,564',\n",
       "  'https://en.wikipedia.org/wiki/Sapienza_University_of_Rome'],\n",
       " ['Japan',\n",
       "  'Nihon University',\n",
       "  '1889',\n",
       "  'Private',\n",
       "  '70,667',\n",
       "  'https://en.wikipedia.org/wiki/Nihon_University'],\n",
       " ['Kenya',\n",
       "  'University of Nairobi',\n",
       "  '1970',\n",
       "  'Public',\n",
       "  '84,000',\n",
       "  'https://en.wikipedia.org/wiki/University_of_Nairobi'],\n",
       " ['Kosovo',\n",
       "  'Universiteti i Prishtinës',\n",
       "  '1999',\n",
       "  'Public',\n",
       "  '41,833',\n",
       "  'https://en.wikipedia.org/wiki/Universiteti_i_Prishtin%C3%ABs'],\n",
       " ['Lithuania',\n",
       "  'Vilnius University',\n",
       "  '1579',\n",
       "  'Public',\n",
       "  '23,606',\n",
       "  'https://en.wikipedia.org/wiki/Vilnius_University'],\n",
       " ['Macau',\n",
       "  'Macau University of Science and Technology',\n",
       "  '2000',\n",
       "  'Private',\n",
       "  '10,373',\n",
       "  'https://en.wikipedia.org/wiki/Macau_University_of_Science_and_Technology'],\n",
       " ['Malaysia',\n",
       "  'Universiti Teknologi MARA',\n",
       "  '1956',\n",
       "  'Public',\n",
       "  '100,000',\n",
       "  'https://en.wikipedia.org/wiki/Universiti_Teknologi_MARA'],\n",
       " ['Mexico',\n",
       "  'National Autonomous University of Mexico',\n",
       "  '1551',\n",
       "  'Public',\n",
       "  '349,515',\n",
       "  'https://en.wikipedia.org/wiki/National_Autonomous_University_of_Mexico'],\n",
       " ['Nepal',\n",
       "  'Tribhuvan University',\n",
       "  '1959',\n",
       "  'Public',\n",
       "  '604,437',\n",
       "  'https://en.wikipedia.org/wiki/Tribhuvan_University'],\n",
       " ['Netherlands',\n",
       "  'University of Amsterdam',\n",
       "  '1632',\n",
       "  'Public',\n",
       "  '31,186',\n",
       "  'https://en.wikipedia.org/wiki/University_of_Amsterdam'],\n",
       " ['New Zealand',\n",
       "  'University of Auckland',\n",
       "  '1883',\n",
       "  'Public',\n",
       "  '33,050',\n",
       "  'https://en.wikipedia.org/wiki/University_of_Auckland'],\n",
       " ['North Macedonia',\n",
       "  'University of Skopje',\n",
       "  '1943',\n",
       "  'Public',\n",
       "  '50,000',\n",
       "  'https://en.wikipedia.org/wiki/University_of_Skopje'],\n",
       " ['Norway',\n",
       "  'Norwegian University of Science and Technology',\n",
       "  '1996',\n",
       "  'Public',\n",
       "  '39,000',\n",
       "  'https://en.wikipedia.org/wiki/Norwegian_University_of_Science_and_Technology'],\n",
       " ['Pakistan',\n",
       "  'Virtual University of Pakistan',\n",
       "  '2002',\n",
       "  'Public',\n",
       "  '165,000',\n",
       "  'https://en.wikipedia.org/wiki/Virtual_University_of_Pakistan'],\n",
       " ['Peru',\n",
       "  'National University of San Marcos',\n",
       "  '1551',\n",
       "  'Private',\n",
       "  '37,032',\n",
       "  'https://en.wikipedia.org/wiki/National_University_of_San_Marcos'],\n",
       " ['Philippines',\n",
       "  'Polytechnic University of the Philippines',\n",
       "  '1904',\n",
       "  'Public',\n",
       "  '68,249',\n",
       "  'https://en.wikipedia.org/wiki/Polytechnic_University_of_the_Philippines'],\n",
       " ['Poland',\n",
       "  'University of Warsaw',\n",
       "  '1816',\n",
       "  'Public',\n",
       "  '44,400',\n",
       "  'https://en.wikipedia.org/wiki/University_of_Warsaw'],\n",
       " ['Portugal',\n",
       "  'University of Lisbon',\n",
       "  '1288',\n",
       "  'Public',\n",
       "  '48,100',\n",
       "  'https://en.wikipedia.org/wiki/University_of_Lisbon'],\n",
       " ['Romania',\n",
       "  'Spiru Haret University',\n",
       "  '1991',\n",
       "  'Private',\n",
       "  '311,928',\n",
       "  'https://en.wikipedia.org/wiki/Spiru_Haret_University'],\n",
       " ['Russia',\n",
       "  'Modern University for the Humanities',\n",
       "  '1992',\n",
       "  'Private',\n",
       "  '200,000',\n",
       "  'https://en.wikipedia.org/wiki/Modern_University_for_the_Humanities'],\n",
       " ['Saudi Arabia',\n",
       "  'King Abdulaziz University',\n",
       "  '1976',\n",
       "  'Public',\n",
       "  '177,234',\n",
       "  'https://en.wikipedia.org/wiki/King_Abdulaziz_University'],\n",
       " ['Singapore',\n",
       "  'National University of Singapore',\n",
       "  '1905',\n",
       "  'Public',\n",
       "  '38,300',\n",
       "  'https://en.wikipedia.org/wiki/National_University_of_Singapore'],\n",
       " ['Slovenia',\n",
       "  'University of Ljubljana',\n",
       "  '1919',\n",
       "  'Public',\n",
       "  '48,821',\n",
       "  'https://en.wikipedia.org/wiki/University_of_Ljubljana'],\n",
       " ['South Africa',\n",
       "  'University of South Africa',\n",
       "  '1873',\n",
       "  'Public',\n",
       "  '328,179',\n",
       "  'https://en.wikipedia.org/wiki/University_of_South_Africa'],\n",
       " ['South Korea',\n",
       "  'Korea National Open University',\n",
       "  '1972',\n",
       "  'Public',\n",
       "  '173,758',\n",
       "  'https://en.wikipedia.org/wiki/Korea_National_Open_University'],\n",
       " ['Spain',\n",
       "  'National University of Distance Education',\n",
       "  '1972',\n",
       "  'Public',\n",
       "  '260,079',\n",
       "  'https://en.wikipedia.org/wiki/National_University_of_Distance_Education'],\n",
       " ['Sweden',\n",
       "  'Lund University',\n",
       "  '1666',\n",
       "  'Public',\n",
       "  '30,646',\n",
       "  'https://en.wikipedia.org/wiki/Lund_University'],\n",
       " ['Switzerland',\n",
       "  'University of Zurich',\n",
       "  '1833[34]',\n",
       "  'Public',\n",
       "  '26,356',\n",
       "  'https://en.wikipedia.org/wiki/University_of_Zurich'],\n",
       " ['Taiwan',\n",
       "  'National Taiwan University',\n",
       "  '1928',\n",
       "  'Public',\n",
       "  '31,758',\n",
       "  'https://en.wikipedia.org/wiki/National_Taiwan_University'],\n",
       " ['Thailand',\n",
       "  'Ramkhamhaeng University',\n",
       "  '1971',\n",
       "  'Public',\n",
       "  '525,000',\n",
       "  'https://en.wikipedia.org/wiki/Ramkhamhaeng_University'],\n",
       " ['Trinidad and Tobago',\n",
       "  'University of the West Indies',\n",
       "  '1960',\n",
       "  'Public',\n",
       "  '60,000+',\n",
       "  'https://en.wikipedia.org/wiki/University_of_the_West_Indies'],\n",
       " ['Turkey',\n",
       "  'Anadolu University',\n",
       "  '1958',\n",
       "  'Public',\n",
       "  '1,969,733',\n",
       "  'https://en.wikipedia.org/wiki/Anadolu_University'],\n",
       " ['United Kingdom',\n",
       "  'Open University',\n",
       "  '1969',\n",
       "  'Public',\n",
       "  '253,075',\n",
       "  'https://en.wikipedia.org/wiki/Open_University'],\n",
       " ['United States',\n",
       "  'Texas A&M University',\n",
       "  '1876',\n",
       "  'Public',\n",
       "  '73,284',\n",
       "  'https://en.wikipedia.org/wiki/Texas_A%26M_University'],\n",
       " ['Uruguay',\n",
       "  'University of the Republic',\n",
       "  '1949',\n",
       "  'Public',\n",
       "  '144,108',\n",
       "  'https://en.wikipedia.org/wiki/University_of_the_Republic'],\n",
       " ['Venezuela',\n",
       "  'Universidad Central de Venezuela',\n",
       "  '1721',\n",
       "  'Public',\n",
       "  '41,059',\n",
       "  'https://en.wikipedia.org/wiki/Universidad_Central_de_Venezuela']]"
      ]
     },
     "execution_count": 20,
     "metadata": {},
     "output_type": "execute_result"
    }
   ],
   "source": [
    "data"
   ]
  },
  {
   "cell_type": "code",
   "execution_count": 26,
   "metadata": {},
   "outputs": [],
   "source": [
    "import csv\n",
    "import json\n",
    "import pandas as pd"
   ]
  },
  {
   "cell_type": "code",
   "execution_count": 27,
   "metadata": {},
   "outputs": [],
   "source": [
    "with open('university.csv', 'w', newline='') as f:\n",
    "    csvwriter = csv.writer(f)\n",
    "    csvwriter.writerow(columns)\n",
    "    csvwriter.writerows(data)"
   ]
  },
  {
   "cell_type": "code",
   "execution_count": 28,
   "metadata": {},
   "outputs": [],
   "source": [
    "with open('university.json', 'w') as f:\n",
    "    json.dump(data, f, indent=4)"
   ]
  },
  {
   "cell_type": "code",
   "execution_count": 29,
   "metadata": {},
   "outputs": [],
   "source": [
    "df = pd.DataFrame(data=data, columns=columns)"
   ]
  },
  {
   "cell_type": "code",
   "execution_count": 30,
   "metadata": {},
   "outputs": [
    {
     "data": {
      "text/html": [
       "<div>\n",
       "<style scoped>\n",
       "    .dataframe tbody tr th:only-of-type {\n",
       "        vertical-align: middle;\n",
       "    }\n",
       "\n",
       "    .dataframe tbody tr th {\n",
       "        vertical-align: top;\n",
       "    }\n",
       "\n",
       "    .dataframe thead th {\n",
       "        text-align: right;\n",
       "    }\n",
       "</style>\n",
       "<table border=\"1\" class=\"dataframe\">\n",
       "  <thead>\n",
       "    <tr style=\"text-align: right;\">\n",
       "      <th></th>\n",
       "      <th>Country</th>\n",
       "      <th>University</th>\n",
       "      <th>Founded</th>\n",
       "      <th>Type</th>\n",
       "      <th>Enrollment</th>\n",
       "      <th>Links</th>\n",
       "    </tr>\n",
       "  </thead>\n",
       "  <tbody>\n",
       "    <tr>\n",
       "      <th>0</th>\n",
       "      <td>Albania</td>\n",
       "      <td>University of Tirana</td>\n",
       "      <td>1957</td>\n",
       "      <td>Public</td>\n",
       "      <td>35,000</td>\n",
       "      <td>https://en.wikipedia.org/wiki/University_of_Ti...</td>\n",
       "    </tr>\n",
       "    <tr>\n",
       "      <th>1</th>\n",
       "      <td>Algeria</td>\n",
       "      <td>Constantine University</td>\n",
       "      <td>1978</td>\n",
       "      <td>Public</td>\n",
       "      <td>85,000</td>\n",
       "      <td>https://en.wikipedia.org/wiki/List_of_universi...</td>\n",
       "    </tr>\n",
       "    <tr>\n",
       "      <th>2</th>\n",
       "      <td>Angola</td>\n",
       "      <td>Agostinho Neto University</td>\n",
       "      <td>1962</td>\n",
       "      <td>Public</td>\n",
       "      <td>29,827</td>\n",
       "      <td>https://en.wikipedia.org/wiki/Agostinho_Neto_U...</td>\n",
       "    </tr>\n",
       "    <tr>\n",
       "      <th>3</th>\n",
       "      <td>Argentina</td>\n",
       "      <td>University of Buenos Aires</td>\n",
       "      <td>1821</td>\n",
       "      <td>Public</td>\n",
       "      <td>311,175</td>\n",
       "      <td>https://en.wikipedia.org/wiki/University_of_Bu...</td>\n",
       "    </tr>\n",
       "    <tr>\n",
       "      <th>4</th>\n",
       "      <td>Australia</td>\n",
       "      <td>Monash University</td>\n",
       "      <td>1958</td>\n",
       "      <td>Public</td>\n",
       "      <td>73,807</td>\n",
       "      <td>https://en.wikipedia.org/wiki/Monash_University</td>\n",
       "    </tr>\n",
       "    <tr>\n",
       "      <th>...</th>\n",
       "      <td>...</td>\n",
       "      <td>...</td>\n",
       "      <td>...</td>\n",
       "      <td>...</td>\n",
       "      <td>...</td>\n",
       "      <td>...</td>\n",
       "    </tr>\n",
       "    <tr>\n",
       "      <th>65</th>\n",
       "      <td>Turkey</td>\n",
       "      <td>Anadolu University</td>\n",
       "      <td>1958</td>\n",
       "      <td>Public</td>\n",
       "      <td>1,969,733</td>\n",
       "      <td>https://en.wikipedia.org/wiki/Anadolu_University</td>\n",
       "    </tr>\n",
       "    <tr>\n",
       "      <th>66</th>\n",
       "      <td>United Kingdom</td>\n",
       "      <td>Open University</td>\n",
       "      <td>1969</td>\n",
       "      <td>Public</td>\n",
       "      <td>253,075</td>\n",
       "      <td>https://en.wikipedia.org/wiki/Open_University</td>\n",
       "    </tr>\n",
       "    <tr>\n",
       "      <th>67</th>\n",
       "      <td>United States</td>\n",
       "      <td>Texas A&amp;M University</td>\n",
       "      <td>1876</td>\n",
       "      <td>Public</td>\n",
       "      <td>73,284</td>\n",
       "      <td>https://en.wikipedia.org/wiki/Texas_A%26M_Univ...</td>\n",
       "    </tr>\n",
       "    <tr>\n",
       "      <th>68</th>\n",
       "      <td>Uruguay</td>\n",
       "      <td>University of the Republic</td>\n",
       "      <td>1949</td>\n",
       "      <td>Public</td>\n",
       "      <td>144,108</td>\n",
       "      <td>https://en.wikipedia.org/wiki/University_of_th...</td>\n",
       "    </tr>\n",
       "    <tr>\n",
       "      <th>69</th>\n",
       "      <td>Venezuela</td>\n",
       "      <td>Universidad Central de Venezuela</td>\n",
       "      <td>1721</td>\n",
       "      <td>Public</td>\n",
       "      <td>41,059</td>\n",
       "      <td>https://en.wikipedia.org/wiki/Universidad_Cent...</td>\n",
       "    </tr>\n",
       "  </tbody>\n",
       "</table>\n",
       "<p>70 rows × 6 columns</p>\n",
       "</div>"
      ],
      "text/plain": [
       "           Country                        University Founded    Type  \\\n",
       "0          Albania              University of Tirana    1957  Public   \n",
       "1          Algeria            Constantine University    1978  Public   \n",
       "2           Angola         Agostinho Neto University    1962  Public   \n",
       "3        Argentina        University of Buenos Aires    1821  Public   \n",
       "4        Australia                 Monash University    1958  Public   \n",
       "..             ...                               ...     ...     ...   \n",
       "65          Turkey                Anadolu University    1958  Public   \n",
       "66  United Kingdom                   Open University    1969  Public   \n",
       "67   United States              Texas A&M University    1876  Public   \n",
       "68         Uruguay        University of the Republic    1949  Public   \n",
       "69       Venezuela  Universidad Central de Venezuela    1721  Public   \n",
       "\n",
       "   Enrollment                                              Links  \n",
       "0      35,000  https://en.wikipedia.org/wiki/University_of_Ti...  \n",
       "1      85,000  https://en.wikipedia.org/wiki/List_of_universi...  \n",
       "2      29,827  https://en.wikipedia.org/wiki/Agostinho_Neto_U...  \n",
       "3     311,175  https://en.wikipedia.org/wiki/University_of_Bu...  \n",
       "4      73,807    https://en.wikipedia.org/wiki/Monash_University  \n",
       "..        ...                                                ...  \n",
       "65  1,969,733   https://en.wikipedia.org/wiki/Anadolu_University  \n",
       "66    253,075      https://en.wikipedia.org/wiki/Open_University  \n",
       "67     73,284  https://en.wikipedia.org/wiki/Texas_A%26M_Univ...  \n",
       "68    144,108  https://en.wikipedia.org/wiki/University_of_th...  \n",
       "69     41,059  https://en.wikipedia.org/wiki/Universidad_Cent...  \n",
       "\n",
       "[70 rows x 6 columns]"
      ]
     },
     "execution_count": 30,
     "metadata": {},
     "output_type": "execute_result"
    }
   ],
   "source": [
    "df"
   ]
  },
  {
   "cell_type": "code",
   "execution_count": null,
   "metadata": {},
   "outputs": [],
   "source": []
  }
 ],
 "metadata": {
  "kernelspec": {
   "display_name": "venv",
   "language": "python",
   "name": "python3"
  },
  "language_info": {
   "codemirror_mode": {
    "name": "ipython",
    "version": 3
   },
   "file_extension": ".py",
   "mimetype": "text/x-python",
   "name": "python",
   "nbconvert_exporter": "python",
   "pygments_lexer": "ipython3",
   "version": "3.11.7"
  }
 },
 "nbformat": 4,
 "nbformat_minor": 2
}
